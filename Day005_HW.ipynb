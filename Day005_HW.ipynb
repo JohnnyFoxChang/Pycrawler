{
 "cells": [
  {
   "cell_type": "markdown",
   "metadata": {},
   "source": [
    "# API 資料串接 - 以 Dcard API 實作範例\n",
    "\n",
    "* 了解 Dcard API 使用方式與回傳內容\n",
    "* 撰寫程式存取 API 且解析 JSON 格式資料\n"
   ]
  },
  {
   "cell_type": "markdown",
   "metadata": {},
   "source": [
    "## 作業目標\n",
    "\n",
    "* 請利用 API: https://www.dcard.tw/_api/forums/pet/posts?popular=true 回答下列問題：\n",
    "\n",
    "1. 這個 API 一次會回傳幾筆資料？每一筆資料包含哪些欄位？\n",
    "2. 取出每一筆資料的「標題」、「貼文時間」、「留言人數」、「按讚人數」\n",
    "3. 計算熱門/非熱門文章的「平均留言人數」與「平均按讚人數」"
   ]
  },
  {
   "cell_type": "code",
   "execution_count": null,
   "metadata": {},
   "outputs": [],
   "source": [
    "# 1. 這個 API 一次會回傳幾筆資料？每一筆資料包含哪些欄位？\n",
    "import requests\n",
    "r = requests.get('https://www.dcard.tw/_api/forums/pet/posts?popular=true')\n",
    "response = r.text\n",
    "import json\n",
    "datas = json.loads(response)\n",
    "print(f'這個 API一次會回傳{len(datas)}筆資料')\n",
    "print('每一筆資料包含以下欄位:')\n",
    "key_list = datas[0].keys()\n",
    "print(list(key_list))"
   ]
  },
  {
   "cell_type": "code",
   "execution_count": null,
   "metadata": {},
   "outputs": [],
   "source": [
    "# 2. 取出每一筆資料的「標題」、「貼文時間」、「留言人數」、「按讚人數」\n",
    "for data in datas:\n",
    "    print('「標題」:',data['title'],'「貼文時間」:',data['createdAt'],'「留言人數」:',data['commentCount'],'「按讚人數」:',data['likeCount'])\n"
   ]
  },
  {
   "cell_type": "code",
   "execution_count": null,
   "metadata": {},
   "outputs": [],
   "source": [
    "# 3. 計算熱門/非熱門文章的「平均留言人數」與「平均按讚人數」\n",
    "def average(url):\n",
    "    import requests\n",
    "    r = requests.get(url)\n",
    "    response = r.text\n",
    "    import json\n",
    "    datas = json.loads(response)\n",
    "    total_comment = 0\n",
    "    total_like = 0\n",
    "    for data in datas:\n",
    "        total_comment += data['commentCount']\n",
    "        total_like += data['likeCount']\n",
    "    return (total_comment / len(datas), total_like / len(datas)) \n",
    "\n",
    "popular = average('https://www.dcard.tw/_api/forums/pet/posts?popular=true')\n",
    "non_popular = average('https://www.dcard.tw/_api/forums/pet/posts?popular=false')\n",
    "\n",
    "print(f'熱門文章的「平均留言人數」{popular[0]:0.2f} 與「平均按讚人數」{popular[1]:0.2f}')\n",
    "print(f'非熱門文章的「平均留言人數」{non_popular[0]:0.2f} 與「平均按讚人數」{non_popular[1]:0.2f}')"
   ]
  },
  {
   "cell_type": "code",
   "execution_count": null,
   "metadata": {},
   "outputs": [],
   "source": []
  },
  {
   "cell_type": "code",
   "execution_count": null,
   "metadata": {},
   "outputs": [],
   "source": []
  },
  {
   "cell_type": "code",
   "execution_count": null,
   "metadata": {},
   "outputs": [],
   "source": []
  }
 ],
 "metadata": {
  "kernelspec": {
   "display_name": "Python 3",
   "language": "python",
   "name": "python3"
  },
  "language_info": {
   "codemirror_mode": {
    "name": "ipython",
    "version": 3
   },
   "file_extension": ".py",
   "mimetype": "text/x-python",
   "name": "python",
   "nbconvert_exporter": "python",
   "pygments_lexer": "ipython3",
   "version": "3.7.4"
  }
 },
 "nbformat": 4,
 "nbformat_minor": 2
}
