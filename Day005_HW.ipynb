{
 "cells": [
  {
   "cell_type": "markdown",
   "metadata": {},
   "source": [
    "# API 資料串接 - 以 Dcard API 實作範例\n",
    "\n",
    "* 了解 Dcard API 使用方式與回傳內容\n",
    "* 撰寫程式存取 API 且解析 JSON 格式資料\n"
   ]
  },
  {
   "cell_type": "markdown",
   "metadata": {},
   "source": [
    "## 作業目標\n",
    "\n",
    "* 請利用 API: https://www.dcard.tw/_api/forums/pet/posts?popular=true 回答下列問題：\n",
    "\n",
    "1. 這個 API 一次會回傳幾筆資料？每一筆資料包含哪些欄位？\n",
    "2. 取出每一筆資料的「標題」、「貼文時間」、「留言人數」、「按讚人數」\n",
    "3. 計算熱門/非熱門文章的「平均留言人數」與「平均按讚人數」"
   ]
  },
  {
   "cell_type": "code",
   "execution_count": 16,
   "metadata": {},
   "outputs": [
    {
     "name": "stdout",
     "output_type": "stream",
     "text": [
      "這個 API一次會回傳30筆資料\n",
      "每一筆資料包含以下欄位:\n",
      "['id', 'title', 'excerpt', 'anonymousSchool', 'anonymousDepartment', 'pinned', 'forumId', 'replyId', 'createdAt', 'updatedAt', 'commentCount', 'likeCount', 'withNickname', 'tags', 'topics', 'meta', 'forumName', 'forumAlias', 'nsfw', 'gender', 'school', 'department', 'replyTitle', 'mediaMeta', 'reactions', 'hidden', 'customStyle', 'isSuspiciousAccount', 'isModerator', 'layout', 'withImages', 'withVideos', 'media', 'reportReasonText', 'excerptComments', 'postAvatar', 'verifiedBadge']\n"
     ]
    }
   ],
   "source": [
    "# 1. 這個 API 一次會回傳幾筆資料？每一筆資料包含哪些欄位？\n",
    "import requests\n",
    "r = requests.get('https://www.dcard.tw/_api/forums/pet/posts?popular=true')\n",
    "response = r.text\n",
    "import json\n",
    "datas = json.loads(response)\n",
    "print(f'這個 API一次會回傳{len(datas)}筆資料')\n",
    "print('每一筆資料包含以下欄位:')\n",
    "key_list = datas[0].keys()\n",
    "print(list(key_list))"
   ]
  },
  {
   "cell_type": "code",
   "execution_count": 19,
   "metadata": {},
   "outputs": [
    {
     "name": "stdout",
     "output_type": "stream",
     "text": [
      "「標題」: 哪有貓這樣折手手？？？ 「貼文時間」: 2020-11-13T03:56:18.888Z 「留言人數」: 66 「按讚人數」: 2456\n",
      "「標題」: 被貓咪的🐔🐔磨蹭的感覺..... 「貼文時間」: 2020-11-13T14:49:58.023Z 「留言人數」: 68 「按讚人數」: 675\n",
      "「標題」: 我領養了一隻德國狼犬 「貼文時間」: 2020-11-13T21:58:20.908Z 「留言人數」: 26 「按讚人數」: 602\n",
      "「標題」: 我的貓突然很可愛 「貼文時間」: 2020-11-13T10:23:02.590Z 「留言人數」: 9 「按讚人數」: 272\n",
      "「標題」: 會穿衣服的布偶貓 「貼文時間」: 2020-11-13T16:22:43.870Z 「留言人數」: 8 「按讚人數」: 256\n",
      "「標題」: 很愛講電話的兄妹檔 「貼文時間」: 2020-11-13T14:00:31.537Z 「留言人數」: 9 「按讚人數」: 145\n",
      "「標題」: 看電視看到睡著的貓爺 「貼文時間」: 2020-11-13T08:22:42.361Z 「留言人數」: 9 「按讚人數」: 131\n",
      "「標題」: 寵物上車需收票 「貼文時間」: 2020-11-13T08:49:21.650Z 「留言人數」: 53 「按讚人數」: 119\n",
      "「標題」: 貓咪半夜一直抓房間門縫怎麼辦？我要瘋了 「貼文時間」: 2020-11-13T04:20:07.531Z 「留言人數」: 28 「按讚人數」: 118\n",
      "「標題」: 你需要一條貓毯子嗎 「貼文時間」: 2020-11-13T08:01:44.254Z 「留言人數」: 9 「按讚人數」: 94\n",
      "「標題」: 領養了一隻布偶貓，被他睡姿萌了一臉 「貼文時間」: 2020-11-13T23:15:32.077Z 「留言人數」: 3 「按讚人數」: 85\n",
      "「標題」: 這隻貓也太搞笑 「貼文時間」: 2020-11-13T17:48:58.553Z 「留言人數」: 7 「按讚人數」: 71\n",
      "「標題」: 寵物店的貂環境惡劣？ 「貼文時間」: 2020-11-13T15:55:01.101Z 「留言人數」: 6 「按讚人數」: 55\n",
      "「標題」: 阿嬤養的吉娃娃之甩油成功 「貼文時間」: 2020-11-14T04:47:36.279Z 「留言人數」: 10 「按讚人數」: 50\n",
      "「標題」: 兩隻虎斑送養 「貼文時間」: 2020-11-13T19:20:28.577Z 「留言人數」: 4 「按讚人數」: 41\n",
      "「標題」: 一鬍龍 二鬍虎 三鬍豬？ 「貼文時間」: 2020-11-14T04:15:12.095Z 「留言人數」: 4 「按讚人數」: 35\n",
      "「標題」: 新領養的貓咪一直亂大便尿尿 「貼文時間」: 2020-11-13T08:12:03.838Z 「留言人數」: 21 「按讚人數」: 34\n",
      "「標題」: 養鼠歷程+倉鼠用品使用心得 「貼文時間」: 2020-11-13T15:03:43.395Z 「留言人數」: 9 「按讚人數」: 29\n",
      "「標題」: 中部貓咪認養管道 「貼文時間」: 2020-11-13T00:47:32.984Z 「留言人數」: 15 「按讚人數」: 28\n",
      "「標題」: 貓咪好像餓很久 「貼文時間」: 2020-11-14T03:23:41.684Z 「留言人數」: 8 「按讚人數」: 26\n",
      "「標題」: 我家貓咪也有禮物 「貼文時間」: 2020-11-13T13:47:53.806Z 「留言人數」: 0 「按讚人數」: 18\n",
      "「標題」: 天氣冷~~貓貓都睡翻啦 「貼文時間」: 2020-11-13T10:32:11.290Z 「留言人數」: 0 「按讚人數」: 17\n",
      "「標題」: 一定是電視的錯ಠ_ಠ 「貼文時間」: 2020-11-13T20:46:41.817Z 「留言人數」: 6 「按讚人數」: 11\n",
      "「標題」: 撿到貓咪該怎麼辦？ 「貼文時間」: 2020-11-13T16:52:28.076Z 「留言人數」: 0 「按讚人數」: 11\n",
      "「標題」: 曬貓ᵀᴵᴹᴱ🧡 「貼文時間」: 2020-11-13T10:43:15.030Z 「留言人數」: 0 「按讚人數」: 11\n",
      "「標題」: #圖多 Pixar是一隻狗狗貓 「貼文時間」: 2020-11-13T14:42:26.911Z 「留言人數」: 3 「按讚人數」: 10\n",
      "「標題」: 我家的貓會說不要回家 「貼文時間」: 2020-11-14T07:22:00.083Z 「留言人數」: 0 「按讚人數」: 9\n",
      "「標題」: 大家有買飼料機要記得定時清洗😣 「貼文時間」: 2020-11-14T07:10:48.848Z 「留言人數」: 2 「按讚人數」: 9\n",
      "「標題」: 貓界の饒舌歌手 「貼文時間」: 2020-11-13T13:02:17.781Z 「留言人數」: 2 「按讚人數」: 9\n",
      "「標題」: 喵的娛樂時間 「貼文時間」: 2020-11-13T03:37:53.024Z 「留言人數」: 3 「按讚人數」: 9\n"
     ]
    }
   ],
   "source": [
    "# 2. 取出每一筆資料的「標題」、「貼文時間」、「留言人數」、「按讚人數」\n",
    "for data in datas:\n",
    "    print('「標題」:',data['title'],'「貼文時間」:',data['createdAt'],'「留言人數」:',data['commentCount'],'「按讚人數」:',data['likeCount'])\n"
   ]
  },
  {
   "cell_type": "code",
   "execution_count": 39,
   "metadata": {},
   "outputs": [
    {
     "name": "stdout",
     "output_type": "stream",
     "text": [
      "熱門文章的「平均留言人數」13.50 與「平均按讚人數」189.13\n",
      "非熱門文章的「平均留言人數」4.00 與「平均按讚人數」36.07\n"
     ]
    }
   ],
   "source": [
    "# 3. 計算熱門/非熱門文章的「平均留言人數」與「平均按讚人數」\n",
    "def average(url):\n",
    "    import requests\n",
    "    r = requests.get(url)\n",
    "    response = r.text\n",
    "    import json\n",
    "    datas = json.loads(response)\n",
    "    total_comment = 0\n",
    "    total_like = 0\n",
    "    for data in datas:\n",
    "        total_comment += data['commentCount']\n",
    "        total_like += data['likeCount']\n",
    "    return (total_comment / len(datas), total_like / len(datas)) \n",
    "\n",
    "popular = average('https://www.dcard.tw/_api/forums/pet/posts?popular=true')\n",
    "non_popular = average('https://www.dcard.tw/_api/forums/pet/posts?popular=false')\n",
    "\n",
    "print(f'熱門文章的「平均留言人數」{popular[0]:0.2f} 與「平均按讚人數」{popular[1]:0.2f}')\n",
    "print(f'非熱門文章的「平均留言人數」{non_popular[0]:0.2f} 與「平均按讚人數」{non_popular[1]:0.2f}')"
   ]
  },
  {
   "cell_type": "code",
   "execution_count": null,
   "metadata": {},
   "outputs": [],
   "source": []
  },
  {
   "cell_type": "code",
   "execution_count": null,
   "metadata": {},
   "outputs": [],
   "source": []
  },
  {
   "cell_type": "code",
   "execution_count": null,
   "metadata": {},
   "outputs": [],
   "source": []
  }
 ],
 "metadata": {
  "kernelspec": {
   "display_name": "Python 3",
   "language": "python",
   "name": "python3"
  },
  "language_info": {
   "codemirror_mode": {
    "name": "ipython",
    "version": 3
   },
   "file_extension": ".py",
   "mimetype": "text/x-python",
   "name": "python",
   "nbconvert_exporter": "python",
   "pygments_lexer": "ipython3",
   "version": "3.7.4"
  }
 },
 "nbformat": 4,
 "nbformat_minor": 2
}
